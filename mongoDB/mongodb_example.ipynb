{
 "metadata": {
  "language_info": {
   "codemirror_mode": {
    "name": "ipython",
    "version": 3
   },
   "file_extension": ".py",
   "mimetype": "text/x-python",
   "name": "python",
   "nbconvert_exporter": "python",
   "pygments_lexer": "ipython3",
   "version": "3.8.5"
  },
  "orig_nbformat": 2,
  "kernelspec": {
   "name": "python385jvsc74a57bd0327549c953e45161202f5e773f385c8c2d03e41d095460af6a4ba2c1eacb1a94",
   "display_name": "Python 3.8.5 64-bit ('rpg_sql-7JfnCVSm': pipenv)"
  }
 },
 "nbformat": 4,
 "nbformat_minor": 2,
 "cells": [
  {
   "cell_type": "code",
   "execution_count": 2,
   "metadata": {},
   "outputs": [],
   "source": [
    "import pymongo"
   ]
  },
  {
   "cell_type": "code",
   "execution_count": 3,
   "metadata": {},
   "outputs": [
    {
     "output_type": "stream",
     "name": "stdout",
     "text": [
      "104.48.246.197\n"
     ]
    }
   ],
   "source": [
    "!curl http://ipecho.net/plain; echo"
   ]
  },
  {
   "cell_type": "code",
   "execution_count": 6,
   "metadata": {},
   "outputs": [],
   "source": [
    "password = 'ffkNZJKrtsDO5cxI'\n",
    "dbname = 'nwdelafu-WinOS'"
   ]
  },
  {
   "cell_type": "code",
   "execution_count": 7,
   "metadata": {},
   "outputs": [],
   "source": [
    "client = pymongo.MongoClient(\"mongodb+srv://nwdelafu-WinOS:{}@cluster0.hkp4s.mongodb.net/{}?retryWrites=true&w=majority\".format(password, dbname))"
   ]
  },
  {
   "cell_type": "code",
   "execution_count": 8,
   "metadata": {},
   "outputs": [],
   "source": [
    "db = client.myFirstDatabase\n",
    "collection = db.myFirstDatabase"
   ]
  },
  {
   "cell_type": "code",
   "execution_count": 9,
   "metadata": {},
   "outputs": [
    {
     "output_type": "execute_result",
     "data": {
      "text/plain": [
       "Collection(Database(MongoClient(host=['cluster0-shard-00-00.hkp4s.mongodb.net:27017', 'cluster0-shard-00-02.hkp4s.mongodb.net:27017', 'cluster0-shard-00-01.hkp4s.mongodb.net:27017'], document_class=dict, tz_aware=False, connect=True, retrywrites=True, w='majority', authsource='admin', replicaset='atlas-tbke1m-shard-0', ssl=True), 'myFirstDatabase'), 'myFirstDatabase')"
      ]
     },
     "metadata": {},
     "execution_count": 9
    }
   ],
   "source": [
    "collection"
   ]
  },
  {
   "cell_type": "code",
   "execution_count": 10,
   "metadata": {},
   "outputs": [
    {
     "output_type": "execute_result",
     "data": {
      "text/plain": [
       "0"
      ]
     },
     "metadata": {},
     "execution_count": 10
    }
   ],
   "source": [
    "collection.count_documents({'x': 1})"
   ]
  },
  {
   "cell_type": "code",
   "execution_count": 11,
   "metadata": {},
   "outputs": [],
   "source": [
    "result = collection.insert_one({'x': 1})"
   ]
  },
  {
   "cell_type": "code",
   "execution_count": 12,
   "metadata": {},
   "outputs": [
    {
     "output_type": "execute_result",
     "data": {
      "text/plain": [
       "{'_id': ObjectId('609c124019da5a540b38b7dc'), 'x': 1}"
      ]
     },
     "metadata": {},
     "execution_count": 12
    }
   ],
   "source": [
    "collection.find_one({'x': 1})\n"
   ]
  },
  {
   "cell_type": "code",
   "execution_count": null,
   "metadata": {},
   "outputs": [],
   "source": []
  }
 ]
}